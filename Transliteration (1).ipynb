{
  "nbformat": 4,
  "nbformat_minor": 0,
  "metadata": {
    "colab": {
      "provenance": []
    },
    "kernelspec": {
      "name": "python3",
      "display_name": "Python 3"
    },
    "language_info": {
      "name": "python"
    }
  },
  "cells": [
    {
      "cell_type": "markdown",
      "source": [
        "# **CUSTOM IMPLEMENTATION FOR ARABIC TO ENGLISH TRANSLITERATION**\n",
        "\n",
        "\n"
      ],
      "metadata": {
        "id": "LdC8XxhkjgPx"
      }
    },
    {
      "cell_type": "code",
      "source": [
        "import sys\n",
        "print(sys.version)\n"
      ],
      "metadata": {
        "colab": {
          "base_uri": "https://localhost:8080/"
        },
        "id": "0iE11pb8KEnL",
        "outputId": "6ea1b071-1f6c-45cb-ed93-b5f0d260108c"
      },
      "execution_count": null,
      "outputs": [
        {
          "output_type": "stream",
          "name": "stdout",
          "text": [
            "3.10.12 (main, Nov 20 2023, 15:14:05) [GCC 11.4.0]\n"
          ]
        }
      ]
    },
    {
      "cell_type": "code",
      "source": [
        "!pip install transliterate\n",
        "!pip install pandas\n",
        "!pip install tensorflow\n",
        "!pip install scikit-learn\n",
        "!pip install gTTS\n",
        "!pip install pyttsx3\n",
        "!apt-get install libespeak1\n"
      ],
      "metadata": {
        "colab": {
          "base_uri": "https://localhost:8080/"
        },
        "id": "H36blG9fDveS",
        "outputId": "6f5c8a7b-7f8f-4ec0-febf-53cb733aac2d"
      },
      "execution_count": null,
      "outputs": [
        {
          "output_type": "stream",
          "name": "stdout",
          "text": [
            "Collecting transliterate\n",
            "  Downloading transliterate-1.10.2-py2.py3-none-any.whl (45 kB)\n",
            "\u001b[?25l     \u001b[90m━━━━━━━━━━━━━━━━━━━━━━━━━━━━━━━━━━━━━━━━\u001b[0m \u001b[32m0.0/45.8 kB\u001b[0m \u001b[31m?\u001b[0m eta \u001b[36m-:--:--\u001b[0m\r\u001b[2K     \u001b[90m━━━━━━━━━━━━━━━━━━━━━━━━━━━━━━━━━━━━━━━━\u001b[0m \u001b[32m45.8/45.8 kB\u001b[0m \u001b[31m1.3 MB/s\u001b[0m eta \u001b[36m0:00:00\u001b[0m\n",
            "\u001b[?25hRequirement already satisfied: six>=1.1.0 in /usr/local/lib/python3.10/dist-packages (from transliterate) (1.16.0)\n",
            "Installing collected packages: transliterate\n",
            "Successfully installed transliterate-1.10.2\n",
            "Requirement already satisfied: pandas in /usr/local/lib/python3.10/dist-packages (1.5.3)\n",
            "Requirement already satisfied: python-dateutil>=2.8.1 in /usr/local/lib/python3.10/dist-packages (from pandas) (2.8.2)\n",
            "Requirement already satisfied: pytz>=2020.1 in /usr/local/lib/python3.10/dist-packages (from pandas) (2023.4)\n",
            "Requirement already satisfied: numpy>=1.21.0 in /usr/local/lib/python3.10/dist-packages (from pandas) (1.25.2)\n",
            "Requirement already satisfied: six>=1.5 in /usr/local/lib/python3.10/dist-packages (from python-dateutil>=2.8.1->pandas) (1.16.0)\n",
            "Requirement already satisfied: tensorflow in /usr/local/lib/python3.10/dist-packages (2.15.0)\n",
            "Requirement already satisfied: absl-py>=1.0.0 in /usr/local/lib/python3.10/dist-packages (from tensorflow) (1.4.0)\n",
            "Requirement already satisfied: astunparse>=1.6.0 in /usr/local/lib/python3.10/dist-packages (from tensorflow) (1.6.3)\n",
            "Requirement already satisfied: flatbuffers>=23.5.26 in /usr/local/lib/python3.10/dist-packages (from tensorflow) (23.5.26)\n",
            "Requirement already satisfied: gast!=0.5.0,!=0.5.1,!=0.5.2,>=0.2.1 in /usr/local/lib/python3.10/dist-packages (from tensorflow) (0.5.4)\n",
            "Requirement already satisfied: google-pasta>=0.1.1 in /usr/local/lib/python3.10/dist-packages (from tensorflow) (0.2.0)\n",
            "Requirement already satisfied: h5py>=2.9.0 in /usr/local/lib/python3.10/dist-packages (from tensorflow) (3.9.0)\n",
            "Requirement already satisfied: libclang>=13.0.0 in /usr/local/lib/python3.10/dist-packages (from tensorflow) (16.0.6)\n",
            "Requirement already satisfied: ml-dtypes~=0.2.0 in /usr/local/lib/python3.10/dist-packages (from tensorflow) (0.2.0)\n",
            "Requirement already satisfied: numpy<2.0.0,>=1.23.5 in /usr/local/lib/python3.10/dist-packages (from tensorflow) (1.25.2)\n",
            "Requirement already satisfied: opt-einsum>=2.3.2 in /usr/local/lib/python3.10/dist-packages (from tensorflow) (3.3.0)\n",
            "Requirement already satisfied: packaging in /usr/local/lib/python3.10/dist-packages (from tensorflow) (23.2)\n",
            "Requirement already satisfied: protobuf!=4.21.0,!=4.21.1,!=4.21.2,!=4.21.3,!=4.21.4,!=4.21.5,<5.0.0dev,>=3.20.3 in /usr/local/lib/python3.10/dist-packages (from tensorflow) (3.20.3)\n",
            "Requirement already satisfied: setuptools in /usr/local/lib/python3.10/dist-packages (from tensorflow) (67.7.2)\n",
            "Requirement already satisfied: six>=1.12.0 in /usr/local/lib/python3.10/dist-packages (from tensorflow) (1.16.0)\n",
            "Requirement already satisfied: termcolor>=1.1.0 in /usr/local/lib/python3.10/dist-packages (from tensorflow) (2.4.0)\n",
            "Requirement already satisfied: typing-extensions>=3.6.6 in /usr/local/lib/python3.10/dist-packages (from tensorflow) (4.9.0)\n",
            "Requirement already satisfied: wrapt<1.15,>=1.11.0 in /usr/local/lib/python3.10/dist-packages (from tensorflow) (1.14.1)\n",
            "Requirement already satisfied: tensorflow-io-gcs-filesystem>=0.23.1 in /usr/local/lib/python3.10/dist-packages (from tensorflow) (0.36.0)\n",
            "Requirement already satisfied: grpcio<2.0,>=1.24.3 in /usr/local/lib/python3.10/dist-packages (from tensorflow) (1.60.1)\n",
            "Requirement already satisfied: tensorboard<2.16,>=2.15 in /usr/local/lib/python3.10/dist-packages (from tensorflow) (2.15.2)\n",
            "Requirement already satisfied: tensorflow-estimator<2.16,>=2.15.0 in /usr/local/lib/python3.10/dist-packages (from tensorflow) (2.15.0)\n",
            "Requirement already satisfied: keras<2.16,>=2.15.0 in /usr/local/lib/python3.10/dist-packages (from tensorflow) (2.15.0)\n",
            "Requirement already satisfied: wheel<1.0,>=0.23.0 in /usr/local/lib/python3.10/dist-packages (from astunparse>=1.6.0->tensorflow) (0.42.0)\n",
            "Requirement already satisfied: google-auth<3,>=1.6.3 in /usr/local/lib/python3.10/dist-packages (from tensorboard<2.16,>=2.15->tensorflow) (2.27.0)\n",
            "Requirement already satisfied: google-auth-oauthlib<2,>=0.5 in /usr/local/lib/python3.10/dist-packages (from tensorboard<2.16,>=2.15->tensorflow) (1.2.0)\n",
            "Requirement already satisfied: markdown>=2.6.8 in /usr/local/lib/python3.10/dist-packages (from tensorboard<2.16,>=2.15->tensorflow) (3.5.2)\n",
            "Requirement already satisfied: requests<3,>=2.21.0 in /usr/local/lib/python3.10/dist-packages (from tensorboard<2.16,>=2.15->tensorflow) (2.31.0)\n",
            "Requirement already satisfied: tensorboard-data-server<0.8.0,>=0.7.0 in /usr/local/lib/python3.10/dist-packages (from tensorboard<2.16,>=2.15->tensorflow) (0.7.2)\n",
            "Requirement already satisfied: werkzeug>=1.0.1 in /usr/local/lib/python3.10/dist-packages (from tensorboard<2.16,>=2.15->tensorflow) (3.0.1)\n",
            "Requirement already satisfied: cachetools<6.0,>=2.0.0 in /usr/local/lib/python3.10/dist-packages (from google-auth<3,>=1.6.3->tensorboard<2.16,>=2.15->tensorflow) (5.3.2)\n",
            "Requirement already satisfied: pyasn1-modules>=0.2.1 in /usr/local/lib/python3.10/dist-packages (from google-auth<3,>=1.6.3->tensorboard<2.16,>=2.15->tensorflow) (0.3.0)\n",
            "Requirement already satisfied: rsa<5,>=3.1.4 in /usr/local/lib/python3.10/dist-packages (from google-auth<3,>=1.6.3->tensorboard<2.16,>=2.15->tensorflow) (4.9)\n",
            "Requirement already satisfied: requests-oauthlib>=0.7.0 in /usr/local/lib/python3.10/dist-packages (from google-auth-oauthlib<2,>=0.5->tensorboard<2.16,>=2.15->tensorflow) (1.3.1)\n",
            "Requirement already satisfied: charset-normalizer<4,>=2 in /usr/local/lib/python3.10/dist-packages (from requests<3,>=2.21.0->tensorboard<2.16,>=2.15->tensorflow) (3.3.2)\n",
            "Requirement already satisfied: idna<4,>=2.5 in /usr/local/lib/python3.10/dist-packages (from requests<3,>=2.21.0->tensorboard<2.16,>=2.15->tensorflow) (3.6)\n",
            "Requirement already satisfied: urllib3<3,>=1.21.1 in /usr/local/lib/python3.10/dist-packages (from requests<3,>=2.21.0->tensorboard<2.16,>=2.15->tensorflow) (2.0.7)\n",
            "Requirement already satisfied: certifi>=2017.4.17 in /usr/local/lib/python3.10/dist-packages (from requests<3,>=2.21.0->tensorboard<2.16,>=2.15->tensorflow) (2024.2.2)\n",
            "Requirement already satisfied: MarkupSafe>=2.1.1 in /usr/local/lib/python3.10/dist-packages (from werkzeug>=1.0.1->tensorboard<2.16,>=2.15->tensorflow) (2.1.5)\n",
            "Requirement already satisfied: pyasn1<0.6.0,>=0.4.6 in /usr/local/lib/python3.10/dist-packages (from pyasn1-modules>=0.2.1->google-auth<3,>=1.6.3->tensorboard<2.16,>=2.15->tensorflow) (0.5.1)\n",
            "Requirement already satisfied: oauthlib>=3.0.0 in /usr/local/lib/python3.10/dist-packages (from requests-oauthlib>=0.7.0->google-auth-oauthlib<2,>=0.5->tensorboard<2.16,>=2.15->tensorflow) (3.2.2)\n",
            "Requirement already satisfied: scikit-learn in /usr/local/lib/python3.10/dist-packages (1.2.2)\n",
            "Requirement already satisfied: numpy>=1.17.3 in /usr/local/lib/python3.10/dist-packages (from scikit-learn) (1.25.2)\n",
            "Requirement already satisfied: scipy>=1.3.2 in /usr/local/lib/python3.10/dist-packages (from scikit-learn) (1.11.4)\n",
            "Requirement already satisfied: joblib>=1.1.1 in /usr/local/lib/python3.10/dist-packages (from scikit-learn) (1.3.2)\n",
            "Requirement already satisfied: threadpoolctl>=2.0.0 in /usr/local/lib/python3.10/dist-packages (from scikit-learn) (3.3.0)\n",
            "Collecting gTTS\n",
            "  Downloading gTTS-2.5.1-py3-none-any.whl (29 kB)\n",
            "Requirement already satisfied: requests<3,>=2.27 in /usr/local/lib/python3.10/dist-packages (from gTTS) (2.31.0)\n",
            "Requirement already satisfied: click<8.2,>=7.1 in /usr/local/lib/python3.10/dist-packages (from gTTS) (8.1.7)\n",
            "Requirement already satisfied: charset-normalizer<4,>=2 in /usr/local/lib/python3.10/dist-packages (from requests<3,>=2.27->gTTS) (3.3.2)\n",
            "Requirement already satisfied: idna<4,>=2.5 in /usr/local/lib/python3.10/dist-packages (from requests<3,>=2.27->gTTS) (3.6)\n",
            "Requirement already satisfied: urllib3<3,>=1.21.1 in /usr/local/lib/python3.10/dist-packages (from requests<3,>=2.27->gTTS) (2.0.7)\n",
            "Requirement already satisfied: certifi>=2017.4.17 in /usr/local/lib/python3.10/dist-packages (from requests<3,>=2.27->gTTS) (2024.2.2)\n",
            "Installing collected packages: gTTS\n",
            "Successfully installed gTTS-2.5.1\n",
            "Collecting pyttsx3\n",
            "  Downloading pyttsx3-2.90-py3-none-any.whl (39 kB)\n",
            "Installing collected packages: pyttsx3\n",
            "Successfully installed pyttsx3-2.90\n",
            "Reading package lists... Done\n",
            "Building dependency tree... Done\n",
            "Reading state information... Done\n",
            "The following additional packages will be installed:\n",
            "  espeak-data libportaudio2 libsonic0\n",
            "The following NEW packages will be installed:\n",
            "  espeak-data libespeak1 libportaudio2 libsonic0\n",
            "0 upgraded, 4 newly installed, 0 to remove and 35 not upgraded.\n",
            "Need to get 1,317 kB of archives.\n",
            "After this operation, 2,961 kB of additional disk space will be used.\n",
            "Get:1 http://archive.ubuntu.com/ubuntu jammy/universe amd64 espeak-data amd64 1.48.15+dfsg-3 [1,085 kB]\n",
            "Get:2 http://archive.ubuntu.com/ubuntu jammy/universe amd64 libportaudio2 amd64 19.6.0-1.1 [65.3 kB]\n",
            "Get:3 http://archive.ubuntu.com/ubuntu jammy/main amd64 libsonic0 amd64 0.2.0-11build1 [10.3 kB]\n",
            "Get:4 http://archive.ubuntu.com/ubuntu jammy/universe amd64 libespeak1 amd64 1.48.15+dfsg-3 [156 kB]\n",
            "Fetched 1,317 kB in 1s (2,015 kB/s)\n",
            "Selecting previously unselected package espeak-data:amd64.\n",
            "(Reading database ... 121749 files and directories currently installed.)\n",
            "Preparing to unpack .../espeak-data_1.48.15+dfsg-3_amd64.deb ...\n",
            "Unpacking espeak-data:amd64 (1.48.15+dfsg-3) ...\n",
            "Selecting previously unselected package libportaudio2:amd64.\n",
            "Preparing to unpack .../libportaudio2_19.6.0-1.1_amd64.deb ...\n",
            "Unpacking libportaudio2:amd64 (19.6.0-1.1) ...\n",
            "Selecting previously unselected package libsonic0:amd64.\n",
            "Preparing to unpack .../libsonic0_0.2.0-11build1_amd64.deb ...\n",
            "Unpacking libsonic0:amd64 (0.2.0-11build1) ...\n",
            "Selecting previously unselected package libespeak1:amd64.\n",
            "Preparing to unpack .../libespeak1_1.48.15+dfsg-3_amd64.deb ...\n",
            "Unpacking libespeak1:amd64 (1.48.15+dfsg-3) ...\n",
            "Setting up libportaudio2:amd64 (19.6.0-1.1) ...\n",
            "Setting up libsonic0:amd64 (0.2.0-11build1) ...\n",
            "Setting up espeak-data:amd64 (1.48.15+dfsg-3) ...\n",
            "Setting up libespeak1:amd64 (1.48.15+dfsg-3) ...\n",
            "Processing triggers for libc-bin (2.35-0ubuntu3.4) ...\n",
            "/sbin/ldconfig.real: /usr/local/lib/libtbbbind_2_5.so.3 is not a symbolic link\n",
            "\n",
            "/sbin/ldconfig.real: /usr/local/lib/libtbbmalloc.so.2 is not a symbolic link\n",
            "\n",
            "/sbin/ldconfig.real: /usr/local/lib/libtbb.so.12 is not a symbolic link\n",
            "\n",
            "/sbin/ldconfig.real: /usr/local/lib/libtbbbind.so.3 is not a symbolic link\n",
            "\n",
            "/sbin/ldconfig.real: /usr/local/lib/libtbbbind_2_0.so.3 is not a symbolic link\n",
            "\n",
            "/sbin/ldconfig.real: /usr/local/lib/libtbbmalloc_proxy.so.2 is not a symbolic link\n",
            "\n"
          ]
        }
      ]
    },
    {
      "cell_type": "code",
      "source": [
        "from transliterate import translit\n",
        "\n",
        "# IMPLEMENTING CUSTOM MAPPING\n",
        "arabic_to_english_mapping = {\n",
        "    'ا': 'aa', 'ب': 'ba', 'ت': 't', 'ث': 'th', 'ج': 'j', 'ح': 'h', 'خ': 'kh', 'د': 'd', 'ذ': 'z', 'ر': 'r',\n",
        "    'ز': 'z', 'س': 's', 'ش': 'sh', 'ص': 's', 'ض': 'd', 'ط': 't', 'ظ': 'z', 'ع': \"'\", 'غ': 'gh', 'ف': 'f',\n",
        "    'ق': 'q', 'ك': 'k', 'ل': 'l', 'م': 'm', 'ن': 'n', 'ه': 'h', 'و': 'w', 'ي': 'y', 'ة': 'ah', 'ى': 'Ya',\n",
        "    'ء': \"'\", 'آ': 'aa', 'أ': 'a', 'ؤ': \"'\", 'إ': 'i', 'ئ': 'y'\n",
        "}\n",
        "\n",
        "def arabic_to_english_transliteration(arabic_text):\n",
        "    # TRANSLITERATION FROM ARABIC TO ENGLISH\n",
        "    english_text = ''.join(arabic_to_english_mapping.get(char, char) for char in arabic_text)\n",
        "    return english_text\n",
        "\n",
        "# SAMPLE\n",
        "arabic_text = 'السلام عليكم'\n",
        "english_text = arabic_to_english_transliteration(arabic_text)\n",
        "print(\"Arabic Text:\", arabic_text)\n",
        "print(\"Transliterated English Text:\", english_text)"
      ],
      "metadata": {
        "id": "UkBrqLP5iQFy"
      },
      "execution_count": null,
      "outputs": []
    },
    {
      "cell_type": "code",
      "source": [
        "def arabic_to_english_transliteration(arabic_text):\n",
        "    arabic_to_english_mapping = {\n",
        "        'ا': 'a', 'إ': 'a', 'أ': 'a', 'آ': 'a', 'ب': 'b', 'ت': 't', 'ث': 'th', 'ج': 'j', 'ح': 'h',\n",
        "        'خ': 'kh', 'د': 'd', 'ذ': 'dh', 'ر': 'r', 'ز': 'z', 'س': 's', 'ش': 'sh', 'ص': 's', 'ض': 'd',\n",
        "        'ط': 't', 'ظ': 'z', 'ع': 'aa', 'غ': 'gh', 'ف': 'f', 'ق': 'q', 'ك': 'k', 'ل': 'l', 'م': 'm',\n",
        "        'ن': 'n', 'ه': 'h', 'ة': 'h', 'و': 'w', 'ؤ': 'w', 'ي': 'y', 'ئ': 'y', 'ى': 'a', 'ء': '',\n",
        "        'ً': 'an', 'ٌ': 'un', 'ٍ': 'in', 'َ': 'a', 'ُ': 'u', 'ِ': 'i', 'ّ': '', 'ْ': '',\n",
        "        'ا': 'a', 'ب': 'b', 'پ': 'p', 'ت': 't', 'ث': 's', 'ج': 'j', 'چ': 'ch', 'ح': 'h', 'خ': 'kh',\n",
        "        'د': 'd', 'ذ': 'z', 'ر': 'r', 'ز': 'z', 'ژ': 'zh', 'س': 's', 'ش': 'sh', 'ص': 's', 'ض': 'z',\n",
        "        'ط': 't', 'ظ': 'z', 'ع': 'a', 'غ': 'gh', 'ف': 'f', 'ق': 'gh', 'ک': 'k', 'گ': 'g', 'ل': 'l',\n",
        "        'م': 'm', 'ن': 'n', 'و': 'o', 'ه': 'h', 'ی': 'i', 'ئ': 'i', 'ء': '', 'ة': 'h', 'ی': 'i'\n",
        "    }\n",
        "\n",
        "    english_text = ''.join(arabic_to_english_mapping.get(char, char) for char in arabic_text)\n",
        "    return english_text\n",
        "\n",
        "arabic_text = 'السلام عليكم'\n",
        "english_text = arabic_to_english_transliteration(arabic_text)\n",
        "print(\"Arabic Text:\", arabic_text)\n",
        "print(\"Transliterated English Text:\", english_text)\n"
      ],
      "metadata": {
        "colab": {
          "base_uri": "https://localhost:8080/"
        },
        "id": "HHwfyrovMghH",
        "outputId": "c257b019-39c0-4630-82c5-13a123bae7ea"
      },
      "execution_count": null,
      "outputs": [
        {
          "output_type": "stream",
          "name": "stdout",
          "text": [
            "Arabic Text: السلام عليكم\n",
            "Transliterated English Text: alslam alykm\n"
          ]
        }
      ]
    },
    {
      "cell_type": "code",
      "source": [
        "def arabic_to_english_transliteration(arabic_text):\n",
        "    arabic_to_english_mapping = {\n",
        "\n",
        "        'ا': 'a', 'إ': 'a', 'أ': 'a', 'آ': 'aa', 'ب': 'b', 'ت': 't', 'ث': 'th', 'ج': 'j', 'ح': 'h',\n",
        "        'خ': 'kh', 'د': 'd', 'ذ': 'dh', 'ر': 'r', 'ز': 'z', 'س': 's', 'ش': 'sh', 'ص': 's', 'ض': 'd',\n",
        "        'ط': 't', 'ظ': 'z', 'ع': 'a', 'غ': 'gh', 'ف': 'f', 'ق': 'q', 'ك': 'k', 'ل': 'l', 'م': 'm',\n",
        "        'ن': 'n', 'ه': 'h', 'ة': 'ah', 'و': 'waw', 'ؤ': 'w', 'ي': 'y', 'ئ': 'y', 'ى': 'a', 'ء': '',\n",
        "        'ً': 'an', 'ٌ': 'un', 'ٍ': 'in', 'َ': 'a', 'ُ': 'u', 'ِ': 'i', 'ّ': '', 'ْ': '',\n",
        "        'ٱ': 'aa',\n",
        "\n",
        "    }\n",
        "\n",
        "    english_text = ''.join(arabic_to_english_mapping.get(char, char) for char in arabic_text)\n",
        "    return english_text\n",
        "\n",
        "arabic_text = 'ٱلسَّلَامُ عَلَيْكُمْ'\n",
        "english_text = arabic_to_english_transliteration(arabic_text)\n",
        "print(\"Arabic Text:\", arabic_text)\n",
        "print(\"Transliterated English Text:\", english_text)\n"
      ],
      "metadata": {
        "colab": {
          "base_uri": "https://localhost:8080/"
        },
        "id": "GTjL40qmM1aW",
        "outputId": "bab580f4-d28b-4095-94a6-62b640209c00"
      },
      "execution_count": null,
      "outputs": [
        {
          "output_type": "stream",
          "name": "stdout",
          "text": [
            "Arabic Text: ٱلسَّلَامُ عَلَيْكُمْ\n",
            "Transliterated English Text: aalsalaamu aalaykum\n"
          ]
        }
      ]
    },
    {
      "cell_type": "code",
      "source": [
        "#ENLISH FEMALE VOICE TASK\n",
        "\n",
        "from transliterate import translit\n",
        "from gtts import gTTS\n",
        "import IPython.display as ipd\n",
        "\n",
        "arabic_to_english_mapping = {\n",
        "    'ا': 'aa', 'ب': 'b', 'ت': 't', 'ث': 'th', 'ج': 'j', 'ح': 'h', 'خ': 'kh', 'د': 'd', 'ذ': 'z', 'ر': 'r',\n",
        "    'ز': 'z', 'س': 's', 'ش': 'sh', 'ص': 's', 'ض': 'd', 'ط': 't', 'ظ': 'z', 'ع': \"ay\", 'غ': 'gh', 'ف': 'f',\n",
        "    'ق': 'q', 'ك': 'k', 'ل': 'l', 'م': 'm', 'ن': 'n', 'ه': 'h', 'و': 'w', 'ي': 'y', 'ة': 'ah', 'ى': 'a',\n",
        "    'ء': \"'\", 'آ': 'aa', 'أ': 'a', 'ؤ': \"'\", 'إ': 'i', 'ئ': 'y',\n",
        "}\n",
        "\n",
        "def arabic_to_english_transliteration(arabic_text):\n",
        "    english_text = ''.join(arabic_to_english_mapping.get(char, char) for char in arabic_text)\n",
        "    return english_text\n",
        "\n",
        "arabic_text = 'السلام عليكم'\n",
        "english_text = arabic_to_english_transliteration(arabic_text)\n",
        "print(\"Arabic Text:\", arabic_text)\n",
        "print(\"Transliterated English Text:\", english_text)\n",
        "\n",
        "# NOW CONVERTING WITH TRANSLITERATION PROCESS\n",
        "tts = gTTS(english_text, lang='en')\n",
        "tts.save('output.mp3')\n",
        "\n",
        "# DISPLAY THE SPEECH\n",
        "ipd.Audio('output.mp3', autoplay=True)\n"
      ],
      "metadata": {
        "colab": {
          "base_uri": "https://localhost:8080/",
          "height": 110
        },
        "id": "rH2Uc2F_Hs2q",
        "outputId": "aa69eaf2-975b-4f3f-f1c2-4a26972cf6c8"
      },
      "execution_count": null,
      "outputs": [
        {
          "output_type": "stream",
          "name": "stdout",
          "text": [
            "Arabic Text: السلام عليكم\n",
            "Transliterated English Text: aalslaam aylykm\n"
          ]
        },
        {
          "output_type": "execute_result",
          "data": {
            "text/plain": [
              "<IPython.lib.display.Audio object>"
            ],
            "text/html": [
              "\n",
              "                <audio  controls=\"controls\" autoplay=\"autoplay\">\n",
              "                    <source src=\"data:audio/mpeg;base64,//NExAARIHXcAUwYAAPk+xIEgSDAwMCeZn69evXr16xY5SlKUoLcHwfB8HAQBAEAQB8HwfB8HAQUCAYic/BwMQQDHg4ciAMeUOVHPR/o/0f5Rf+MUjKDOg/8J84BlKP+//NExA4VImaIAZmYAKWC9iFHdcAWYHkofp5XQaDfBcouMLTP/JUnzQwJz/9zM3M00//80RNybPoGH//5qRcdhfUT5gxp///+Zm5TPoJLNzx///6F/LWpcWjjNFjAYBLD//NExAwVKZKwAdiQALFbMFCJCdLKX+cJpAZxbzDmXJ/IYigRTRHoWUAbUGqS6WkDYkT7qc3bWm2pS9SCPTZ9bs6k01LSoGifV9nq1ZoG03LAlSEWt0K3ruBCMb1C4RZY//NExAoUGdKoAMaOlEm6kVv5YmVDymX32fmhhoAYe5NgiAoM7r5wQBSQlde2RWcmK2O77Kv//qa55vRur9U8znBcatlfR35d+Woszxq78s1EVPU1ov3koqYgj5RrdkYp//NExAwUoUqwAM5ElS/dzKhAhppgtXruWZ1YNESsh+Og1A02TWAsPq7oEDl1j7sWnP5+PM//99SufVlf/dKc6iXEPFGTnXdblA71v4Ovp9r+p/Z15Y/UpJJX7iuUqFCR//NExAwUOVqsAM5ElTXe/txjZrRM4eOhYWYVp7FLgp3qFGz3RXC6dy06Lma5jcl3P/8u5/8vW/ovt6v5qkBiRQhK6XWRvhB/lf/1GaGJXb3/yozz8J4KGIjzlu4xs8Uf//NExA4TAU6sAMZElIopXKASwc8YkRFuMpEAJzEKsh9dIoWbhIcXI9ampPLP//z///Xf6k/9f/o2Zx4aKjpJMiXhUL7Vhly7yvXoptf+AqkHT373ZwCwKAxyWTEeGCRy//NExBURmV6sAM6ElIgjhK6aAEiiZw6VJei8qXHzeXymX//7x1//vFG9yf///fKJDDHC4TZ6wGL9bGI4sn1V5v/wZEb5Ty3/qp/GrsEKNMhuDFvGK8ZkIGjfiWw4YbQ2//NExCESmWqoAM5ElDmcIJDy6gkr81rGGO6XDef/l3v/M7f////d7gkQNR00hE2K+O2teljByrePfyuikaEEvzgiUtGMsoDcQ7QQ8vIEgGzsRCRScp2AstLBCAees/zV//NExCkSaaqoAM5ElHw7/91l////+lP///6LIiGKqEpf1a4JTQy6tdeoqaQzTZm1/8tAwCA2G6mdjN+TMHyGGp5IgIeQDjIN9UXzxAg9oAFACmy4+taS///9f//+36hK//NExDISQbagANTElLoZ2/fYwYoMn4dfKjDESirNn/+z+ORpr/6QR1iMqBwV0JfHMWK9dUUiOWQKCOJR9P/+3/////9F///d/Wv+3/5zvYl2qLnOQm5GQcQOMc5zo0hC//NExDwSivqsAHiKuSuUzIIAAKBxdxARgBySKvqAkJW6m//X//////////////19X3rrodiMizOrZnorkeWgxhpisWg8UMpBQfCx4iHAFIhQ6oDigTGsJh9GMYPFxjf///NExEQQcxq0ADhKvf//9/y1//////p////rM/9vryO5SOqsUyo5VNRRZw4qigwOiIuNsizGoMFXEgoVKYaIBQsqC4HFwHc5BwiJBBTCwCClT/5k/y5fmXl41QjRZo////NExFURax6wAAhKvP//W/7//06W326f6PWvbI7Nqxjlc44JHUtUHGoUUFlVyAMdBYaHQ65jHZSiAqQwmKjhwgZhp+73aSMMQkKIp2UPGhLZvhvvhMDj9iDQ+Vj+zJVj//NExGIQ8xawAAhKuXum3Rmev/7/12panv61tbu3f5v//R5YUFUnZEnrCbztvg1CYZDQhDQqIh6CIerTb5KiORkx4VWUs11EtwccBHU3IaQ/GAZBBBIW+thW4D8gSkM+//NExHESOjqkAMFEuFM3NxnCvXmCK99fz7am+bff+lKkeQqszI9Hqlgcwp4cXFkijloa62gyNd+Ev/0WKvemioDdXUzEhQVN4uggBpnZa6iYZV2GPiyxSBIFEToCLYSx//NExHsWocKEANzElJsmQEAiUGkGAmDGIdwcx0nnST9l9djZ687//9vr7GAkvZlf37xohh+e3oc9MeZWdNq///rOtK2JxWqDdbmHxGQAyCRVJlLqIdAABtCXAkO90ocs//NExHMWUgKAAN0OmMKYFyNRn71PmI5x4iMOfuVCAgWMpLGdJSxvKxr8uf//9TDff/AVfqIN6v53RlqqHSNAMedGnF21OqESRhNHznb3f69hM5I4n//9wb8VP0Wa7y/L//NExGwZ6hqMAN5KmALiZvIos+EzjjMoMnnBGDBwVNtEaWBJAZpitizMF5wUSo8MaRn4knW7P0UsZmYEfFt9/sMZ///K5F//+61f5u3/ff/mjuJG8Bg3plUQZQ6aZC17//NExFceEhqYAN6WmBjFj009NyOzk3Uuetn+8/f3vWeJkhlhf//oXQHmWJcCZRXW9bjxI+bQT+4Xp8gCObdOCXyCXQ0c8KJPbPepUrfs8r7GR5+zjKcRUOIZ/ly652X///NExDEXeaqkAM5UlOghH8Zm+a/r8oStyACwkTKEq88jJTdCNkUw+SnRwEfF9bInyglUl3//16cW0rH/uDETQ8rSWJtraWwe+hd4wL4N5AC0EXuxAwHqFWdQMRjAYAYq//NExCYSoXqkANTElKiah0Jqz3LJW8EF9QL5vt6mbdgMZHwQp+olkDwQesNFbduIsWpumdDEoya+ueIQPA3VX2Fhhk8RjxWJnVAAeQwl0d9FPEfrFO3EgFcDmaWVRdgV//NExC4R8PaUANPQcF1ci4w78UOi+DDZREGw8vl53JVJagw4LSJCgmWZww65mGSAAOKwPFzACgxYNDcZ9Wa1mN9qRSrNo0MnA6oTliGCZ67racvPfzCJbWccu7WcmCwd//NExDkQYOqUANvYcAs9dIQf/JzBapdS8iAjCTMboiI2TSZYgUbhoQY3DUhFfEadbbFQO6k0j0YaWfw2wvipZpbR3qO1mG/aYuLUCAn0AykIQL0Of1dmn//bRjhwWHCO//NExEoTUX6QANvKlCuz+qqply2XYPMzFiBbJQEAqhWYwnxEA195zKEbNDd1mZmuqXPlPqLnHLzNzl0eAjhYkmmIYUwZVPZ3YbuU3d0glOhkNFgyoIPWzWdP+uTYEw9K//NExE8T+LqcANZwTFGj3+ZIkHmOUEOaMHScjPdyRsKXWxZyYQthJThxWHQq6bIDA5/gWOOR9UMUkQWMDrYbgfCA4t3+Xaf/iYb4reg1sg7kHJnMdZ3TibMEh5RkUB4n//NExFIWMV6gANZKlMm5b7NehCk9wnAabKRUBC4I570sEPA41ciqmRBaoJeI55v6fAYWj1uyQAEGC+Rxw3D/lZCscvqPPqMvOP021palF1S6RrqeshJ52iX//dWqSfDd//NExEwSCUawAJZmcAXETUTgQ+J9fVdRdUMrsXFNCYU5PUKXJMN/JyJg0bm0944FwY4CMLZgBCBODG6xyDfSLfmvmPWptaGxzZXkt8h4b/VtvqpuKYFBUWgl03/aqKnE//NExFYSISq0AJYkcPdrFVCJdFugLCiI9nlcgHU7tYOEL4ePIgPwD6XsWAWZvcxvnE+o3801ygbAx+zOSe+jcpO+imesRQKg0QJ0GhC+iOtwSHMjGd8qiCbxf7SixE+H//NExGAQoR64AI4acPeDYVuVP8Mls2rIoA2ZHGSgrotbPjnKdbn9t0Smu1Z1+3wNXmbRSFSavv+3WRr/1VT+VnrS/kAm4MWwzpQS/cnwaUQmFh4cybq81Szyaf/P8KwS//NExHASoR64AI4ecKv9Wl0fK1bCUOlMyyExYmTo/rfFx8fv30kx79Xrk4MOf/7KVdf/yoHaq37USFfOJRdmxAkzEfKYljhFwoEw7MrliPf1VlE9X6Dvf61PS3kJJBEP//NExHgSOSq0AMYYcONqR5LbGTXl+9sD/SytWQrOAB+TOTOj3GQ6abP/qPm67zwNZjoz4BP5ZusxGL1WajUpmGH/zd14oP/8ciP8WLyGibJ4LOakVgQpb2vKTl7ri65R//NExIIScSq0AMYYcDJ/B4pGl9bTnur/qeIgN//////7loW9aw2zwyNZ7G/xnARiB7aGJTZcMFdTHh9xbHoLb1curIl3eXZWpC3Tyxw0scuXX1WFU1nt7KEQ75W/5SPM//NExIsTYUKoAMZWcGDqPoIpsNPvq/2V//0f//7PQoKhPJsqADIYRIg87UxAKGcaAk1OHHKOyFwBm1LYp2Bk1ZcwpxYnkkE/wbYgM2Z3qijYIiLJUPq/w7tAD/b3rHja//NExJATqVaUANYKlIZkFx4S04PCmvoXpVGQi52sKisyuAIy193amoAa7ZrSCtMsZgYU2NQymuMrD0PyrO2MkXFXlyhxQEcw+v65RQ4qLX/h63/////qgyzSy4iKQx6g//NExJQQIKaMANbeTBS9GRU3RdPJXFxSh4hGFxpaG+Fks3gH4TW2aJIhKh1hSsRpHKqTBLoOJnRJmEhN1ySYfAwoSDBSsiO3lsaQwq7KxZW2tr67e4hnVW34v1u8znbb//NExKYSgL6MAN7eTLOncnp2BgInmN/nwQbv/3afyY4s9b6alP5wwKlD/U8YSJOFHBoWZbHgoBJdJ/Ah8YCCc+BYTnslX+Jb2LRn0ChKFCULgZPMgDDCahIPo6I1su3u//NExK8coaKQANvYlPOCbS2IIwrzzfP3f+/1dVe410/+dFrL9tECw8mqLbOOkFPPLTJ6SfJyCGzF76Nz9U7G0uOQnFakKSIiJwoaIAQVyDOs2gik1EjSucPmz2N762e///NExI8UcaKkANmSlP78T/L+mr2rLvD2KFahwp8Q3EaEt9YzYKHI4mO5sgm2nIbOXVvF9767JA/KQB8yLUx4I5CNJ501tEeIVKjUiTVd3bb3yz0zlAiGTf5j9P//uf6e//NExJAQoZasAMiSlC1FpMfHTTbCnLoiqNueVMef0AMSq6xyzRTnTX9Rt/+69f1/i/Vvh5goWQRhgCQT2WHINRhQApTOYPGh15UrFgMoLmGf////bu/JKoGxi5gMhhri//NExKATqY6gANFWlLIDHsPNRnCKTKgAJgVSJiSpIpl01a+jf////bU3Q0dHRUA4Sio1KDXGpE6eO97hEo9PO6cs9i3DEp1hqv7NqTv/RQHKBjldNbWFljAjDCL1RmDL//NExKQSCUKYAMyQcOz7BmXk73v5fJT40MkmeWthQs21IphVcoAmSI8SEVtYolNzzr5acTJPSWsc/R/5bdds1hUSpqa/L7dPhlWs5Z4VbfeYf+GHP3bYvU0bdQgjfCEI//NExK4SaTZ8AMtOcEUbeUmjbrECB6iAgJMRoxWGHLt+goAQMBtsoAQMChwjA2GCSBcVtz1RHsMUQZe0xbe5gEAAIj/D3wDAAyweO68AESa6/x/893n3A34Gf8/4O8R+//NExLcQ+RJQAMjGcOodo1c9SedA2ZC1RJ2zSj8KLCGchjn04rdvGs+/uU5YxapTb6SpLfD8VAmrhzwIqNCb4HiKGwlB0Jg8IUIAkVhES0TRNBDEBDXxUs85TBioNGyl//NExMYc0aJkAVhIASVolQlaSsjjBcaYxJUTrEoOhYdPrfq4qf8uTrpjpcpW393upLmMJCI8wxX6mRRQfpH6tZtO/te/qn++/zJc5zo0hFTZJ2KZwRBAgcxwpEio4oca//NExKUecwqkAYlAASI4NFwCVasLhCVi4MjHIigiKxdiEkp5ZbXLMof5amaYRyMI+tBIgBVCiFMdAI6uHWz5LN2T01x/6/Yr5BTafDFIIm2z5CUUl6fBzna8m86VcFgs//NExH4SIXKoAcgQACenTJaqEQ8RVEtPbR9X/avDLNmJYoNkkVO0QzjST0FwaA0NKVaGMkuk21T/9P7o9VkMq4LAqIwoFpw8SKFjmeTDYVB1BgqMxMkqdMlIvV3PlMI///NExIgRQW6kAEiMlP//+uq7zKUiF5RHOblx4wq+um4oFPWPMQyD7VVGfmBe36n/tfc9x/9vzbTJ78i6SFCzhJkjQjex0TTAXE4ha4fhAyUKDiDUIZyC//oq7+pscVf///NExJYRkS6oAMIOcFrQLCkVUqlABnjXGcITm5V5eSfX/VPX7Hfqz+ciWlAamtOMg2O1BFXY542HWus5FQnP01ElCI2Xbf1vs/////1Vw1y0mAoVezjxwB0dahVkJAzJ//NExKISESqsAMPScGkH4jNjOjya/VzFLnFcq869Y/EEuTcKAdV0xZGBoicGFZaLlh7U3b0OpN84bLHaPI1q1hugJXIa3EG4mfUnxnLAHrMo+Q4QDPtKKuor8x6y6+ov//NExKwRmTawAMzWcL6SL6imzKC3DIYlRxBIhKzZjIY6Ri47iDqUeNCoBUHK2KBiFXuP3+a/Ta3O0ghGTwzygIG9sFpGGeAHEiKBqRoxyVR0kWuxb8/FKX+z5k87tN2x//NExLgQ2ZKwAMtalKKDmsoPY/OYkW2gg4nHpvXelyyFe2JI///////1KsOaoQu91crqlAWtDdEZA0g08yTh+ZFT1RFW1lbob/Sef0zn+S/7G5ykXSRgHAkqohCbKyxA//NExMcSqTqsAMyacMsyYJGiIsPU6ft3rPyn9/////11y/mRQFztzDLz8mcoDMEwAXOgxiHyH60x7rqK2t/3l38N/d+gdjYQDahABg2XYSzB6dFENs3Lq4pbWiQ3KTKP//NExM8RiTqsAMyWcOz//R///pXnN1TNGrZ1CFkaif6qzw0PA8IzKBKgHmRZigMgSSCA6BGyVMh+uVE8+TusxZcA5M4UisH+s6inIX1G7qk3GLujOy6wh7K9pI/m1qfT//NExNsSGTKsAMQScETVNQZmQ0ETbPEH/////6VFVd/2YAztF26Muq+x3DZG+167YQFiXt3Ymgfa3g3aLc7H5d/1IY5+GoFx/Up58oHxBh1PYW1RbhLiDvwFLP4Txmtj//NExOURYUasAMTWcM8fEBOQvuk/U5ZNy4ndesPUykuq336cm3P4TYo9bm6hCdXUvsZBZ8iywZii1vsEK5t/qW79x8IOcHaeqHYZXCgFrM2G57pshlqrutJ0EnpjzPLW//NExPIXUU6kAMyelFw2lMMwFyj7uhF+usO5N1ORp3tYycU1nrhY6LM/4maZTmGhEQiF9VRpp+6PFr391TPlrfVxZffZ3vcYSODwSpJFZVaO2xmgW3WUNiYpaRFI6k0B//NExOcVCUqoAM4elM6smMUdm5JMWQ1eAHtpo/////7F1b+q62AQWWZ3jWpm3KER9Hk0lxyAeW1Yqhcka3HEjFRWLlI0G9ncw3HcjazaYyVtVo7IJ2ePhscXF4bNbWYG//NExOUSoUawAMYacPed1+qbzvCtz4Esa4OA6s8k1RY8geQ7m53VCyInLnusgOIWe9eAHFiOLKw4dqFlr4VJS5lkYFAHekUYaIumlp4LLk+quzqbqQDJa0qSgmRbkOeK//NExO0WyU6kAMYalNjZhxn25bRdapv61v73q2bxLQoUM2KmxZznGLXkhEz1qrl7JQAWt91DKklDSy4yUSRBALBXXXhGC9MBcCFmih5ByjMnRzrhaP2GTMG40ByNJaCQ//NExOQVgUKoAMYecHZJCeR0peKdmIum2hxEaCQWCZ4Jvffdqq/8Crpdxn6QNSaFBuzGBEJE18o8oAumdhtS6NS5qs1m/8AQ9Tw3JpMSc8EsbgDQRQ8myJ1RrZYetzdk//NExOEWyT6kAM5ecMR9Vz///Ofc0XMsa70VfXNMg6GQ4CIhXNSlTMyiDbOYcaGE+l6RtQ6luLzX1B70qNMGrtIYjGaBoNS8SQf2kPCMobNR8+iq7MkGLTMWu4WPPmu///NExNgScOKoAMPYcJ/+/vf9dQagro/2f//Dv///9CpHyiZMVzMieMx5UDI9NMxlWApu6oBYDzJmzLutMiUBqcVpmdsxmPMUjtIyt+XlEYBtS6IKPJUbBHfPc60b0N8s//NExOESGTqoAMYWcNL46wSWiwDDX+fAoEKVRqTULcm9CQQAEqBYKxQaMyaxgUHGsRIXiUfIBi6tkkctNm24bq4YSI10MghQUrEYhDlJDOxvwzKWO3p3cuAKLlKc40VA//NExOsVyTKQAM4ecHhUe6k+o0o9m//0kcTWKJ9938VAKraMjhur+ChpMQz+IM4BHpJDsywGWatMACh6WvVIvksCUvaWcympTlPvJjKAxMpHofx/VJWcp8Hj7nW5sw1T//NExOYTWP58AN4YcDN0uuP3XDEqAv6jIJAicBS/X/QqBwS0VZJDFIfM+CpyTdCwIUDTQBdwckmWZmpa0yQ4me91VwXMFMJyOMhUyyzBpustSKccvzjqUaiaQDp3H6eT//NExOsV4X5sAOPKlYX///gWIvtrrS8IBkaiQoOmZQ4MQXC62ClFTALnSmicQPjpDyo+owpbvSvRUPi7ZMdm0LiZZCbCh9xHyeF5su3S6iqAmdl3v+5Pa2lqO+UeCRFR//NExOYUySZwAN4WcPA5UIiwWfdoUUFrlAALpgSyF/TOiqBCGK/i54jMlYS+0eQ3245raNpOLNLEkiywreaHiYsPpImiFCTLoqwYiOpSgBRwRqOVqNehzH/9mqMjimss//NExOUSOO5wANvScaJlRPDpv/l9Xxo4Xk0FNzd0BpqmlxxkQVYosu2VvLXlQZq0z3Hzt+adeTCEHywRhCLVTkTi+NQ7RtGK2cU446SiQuHWAYDCyfUcYyL+t2VplMJO//NExO8VOS5oANsScCLGknYFw0IiT1AQLCxb//9VNjcxmhbsFSmGIMAq2LfYLHWmtaGkRBuIpWL69S17MDbq5q8Ty1MeGChQsgHAIMTGkhRNSRpWgsIgkBQqQWZCX6hY//NExO0UIZZkANJElQoVaqBRQk/1ICgkDwVZ//9aDkiiEdjqORmOo5HA7F0MAgMMAgNYKYONhI3JbZ//4axlJoaw1hhaMxI8MT2BUBEgqBSxIKjUtf9QFIhICkmDEMf///NExO8WaXpUAMsKlMeMQ0en/2jEVUxBTUUzLjEwMFVVVVVVVVVVVVVVVVVVVVVVVVVVVVVVVVVVVVVVVVVVVVVVVVVVVVVVVVVVVVVVVVVVVVVVVVVVVVVVTEFNRTMu//NExOgUqNIcAMsMcDEwMFVVVVVVVVVVVVVVVVVVVVVVVVVVVVVVVVVVVVVVVVVVVVVVVVVVVVVVVVVVVVVVVVVVVVVVVVVVVVVVVVVVVVVVVVVVVVVVVVVVTEFNRTMu//NExOgSuOXIAGGGcDEwMFVVVVVVVVVVVVVVVVVVVVVVVVVVVVVVVVVVVVVVVVVVVVVVVVVVVVVVVVVVVVVVVVVVVVVVVVVVVVVVVVVVVVVVVVVVVVVVVVVVTEFNRTMu//NExKwAAANIAAAAADEwMFVVVVVVVVVVVVVVVVVVVVVVVVVVVVVVVVVVVVVVVVVVVVVVVVVVVVVVVVVVVVVVVVVVVVVVVVVVVVVVVVVVVVVVVVVVVVVVVVVVTEFNRTMu//NExKwAAANIAAAAADEwMFVVVVVVVVVVVVVVVVVVVVVVVVVVVVVVVVVVVVVVVVVVVVVVVVVVVVVVVVVVVVVVVVVVVVVVVVVVVVVVVVVVVVVVVVVVVVVVVVVVTEFNRTMu//NExKwAAANIAAAAADEwMFVVVVVVVVVVVVVVVVVVVVVVVVVVVVVVVVVVVVVVVVVVVVVVVVVVVVVVVVVVVVVVVVVVVVVVVVVVVVVVVVVVVVVVVVVVVVVVVVVVTEFNRTMu//NExKwAAANIAAAAADEwMFVVVVVVVVVVVVVVVVVVVVVVVVVVVVVVVVVVVVVVVVVVVVVVVVVVVVVVVVVVVVVVVVVVVVVVVVVVVVVVVVVVVVVVVVVVVVVVVVVVTEFNRTMu//NExKwAAANIAAAAADEwMFVVVVVVVVVVVVVVVVVVVVVVVVVVVVVVVVVVVVVVVVVVVVVVVVVVVVVVVVVVVVVVVVVVVVVVVVVVVVVVVVVVVVVVVVVVVVVVVVVVTEFNRTMu//NExKwAAANIAAAAADEwMFVVVVVVVVVVVVVVVVVVVVVVVVVVVVVVVVVVVVVVVVVVVVVVVVVVVVVVVVVVVVVVVVVVVVVVVVVVVVVVVVVVVVVVVVVVVVVVVVVVVVVVVVVV//NExKwAAANIAAAAAFVVVVVVVVVVVVVVVVVVVVVVVVVVVVVVVVVVVVVVVVVVVVVVVVVVVVVVVVVVVVVVVVVVVVVVVVVVVVVVVVVVVVVVVVVVVVVVVVVVVVVVVVVVVVVV//NExKwAAANIAAAAAFVVVVVVVVVVVVVVVVVVVVVVVVVVVVVVVVVVVVVVVVVVVVVVVVVVVVVVVVVVVVVVVVVVVVVVVVVVVVVVVVVVVVVVVVVVVVVVVVVVVVVVVVVVVVVV\" type=\"audio/mpeg\" />\n",
              "                    Your browser does not support the audio element.\n",
              "                </audio>\n",
              "              "
            ]
          },
          "metadata": {},
          "execution_count": 6
        }
      ]
    },
    {
      "cell_type": "code",
      "source": [
        "import re\n",
        "import pyttsx3\n",
        "\n",
        "arabic_to_english_mapping = {\n",
        "    'ا': 'a', 'ب': 'b', 'ت': 't', 'ث': 'th', 'ج': 'j', 'ح': 'h', 'خ': 'kh', 'د': 'd', 'ذ': 'z', 'ر': 'r',\n",
        "    'ز': 'z', 'س': 's', 'ش': 'sh', 'ص': 's', 'ض': 'd', 'ط': 't', 'ظ': 'z', 'ع': \"'\", 'غ': 'gh', 'ف': 'f',\n",
        "    'ق': 'q', 'ك': 'k', 'ل': 'l', 'م': 'm', 'ن': 'n', 'ه': 'h', 'و': 'w', 'ي': 'y', 'ة': 'a', 'ى': 'a',\n",
        "    'ء': \"'\", 'آ': 'aa', 'أ': 'a', 'ؤ': \"'\", 'إ': 'i', 'ئ': 'y'\n",
        "}\n",
        "\n",
        "transliteration_dict = {\n",
        "    'ابن': 'ibn ',\n",
        "    'بنة': 'bint ',  #FOR CLASSIFYING IBN FOR BOY AND BINT FOR GIRL\n",
        "}\n",
        "\n",
        "arabic_names = {\n",
        "    'أحمد': 'M',\n",
        "    'فاطمة': 'F',\n",
        "}\n",
        "\n",
        "def arabic_to_english_transliteration(arabic_text):\n",
        "    english_text = ''.join(arabic_to_english_mapping.get(char, char) for char in arabic_text)\n",
        "    return english_text\n",
        "\n",
        "def infer_gender(arabic_name):\n",
        "    if arabic_name in arabic_names:\n",
        "        return arabic_names[arabic_name]\n",
        "    else:\n",
        "        return 'unknown'\n",
        "\n",
        "arabic_name = 'فاطمة'\n",
        "english_name = arabic_to_english_transliteration(arabic_name)\n",
        "gender_label = infer_gender(arabic_name)\n",
        "\n",
        "print(\"Arabic Name:\", arabic_name)\n",
        "print(\"Transliterated English Name:\", english_name)\n",
        "print(\"Gender Label:\", gender_label)"
      ],
      "metadata": {
        "colab": {
          "base_uri": "https://localhost:8080/"
        },
        "id": "d8bg88_12pv2",
        "outputId": "ab46af81-ed5f-48a1-897d-8598b4dfc895"
      },
      "execution_count": null,
      "outputs": [
        {
          "output_type": "stream",
          "name": "stdout",
          "text": [
            "Arabic Name: فاطمة\n",
            "Transliterated English Name: fatma\n",
            "Gender Label: F\n"
          ]
        }
      ]
    },
    {
      "cell_type": "code",
      "source": [
        "!pip install openai\n"
      ],
      "metadata": {
        "colab": {
          "base_uri": "https://localhost:8080/"
        },
        "id": "kFfEocje2Tug",
        "outputId": "13a0909c-f857-4c1e-e118-a5e7dcc20435"
      },
      "execution_count": null,
      "outputs": [
        {
          "output_type": "stream",
          "name": "stdout",
          "text": [
            "Collecting openai\n",
            "  Downloading openai-1.12.0-py3-none-any.whl (226 kB)\n",
            "\u001b[2K     \u001b[90m━━━━━━━━━━━━━━━━━━━━━━━━━━━━━━━━━━━━━━━━\u001b[0m \u001b[32m226.7/226.7 kB\u001b[0m \u001b[31m2.2 MB/s\u001b[0m eta \u001b[36m0:00:00\u001b[0m\n",
            "\u001b[?25hRequirement already satisfied: anyio<5,>=3.5.0 in /usr/local/lib/python3.10/dist-packages (from openai) (3.7.1)\n",
            "Requirement already satisfied: distro<2,>=1.7.0 in /usr/lib/python3/dist-packages (from openai) (1.7.0)\n",
            "Collecting httpx<1,>=0.23.0 (from openai)\n",
            "  Downloading httpx-0.27.0-py3-none-any.whl (75 kB)\n",
            "\u001b[2K     \u001b[90m━━━━━━━━━━━━━━━━━━━━━━━━━━━━━━━━━━━━━━━━\u001b[0m \u001b[32m75.6/75.6 kB\u001b[0m \u001b[31m6.7 MB/s\u001b[0m eta \u001b[36m0:00:00\u001b[0m\n",
            "\u001b[?25hRequirement already satisfied: pydantic<3,>=1.9.0 in /usr/local/lib/python3.10/dist-packages (from openai) (2.6.1)\n",
            "Requirement already satisfied: sniffio in /usr/local/lib/python3.10/dist-packages (from openai) (1.3.0)\n",
            "Requirement already satisfied: tqdm>4 in /usr/local/lib/python3.10/dist-packages (from openai) (4.66.2)\n",
            "Requirement already satisfied: typing-extensions<5,>=4.7 in /usr/local/lib/python3.10/dist-packages (from openai) (4.9.0)\n",
            "Requirement already satisfied: idna>=2.8 in /usr/local/lib/python3.10/dist-packages (from anyio<5,>=3.5.0->openai) (3.6)\n",
            "Requirement already satisfied: exceptiongroup in /usr/local/lib/python3.10/dist-packages (from anyio<5,>=3.5.0->openai) (1.2.0)\n",
            "Requirement already satisfied: certifi in /usr/local/lib/python3.10/dist-packages (from httpx<1,>=0.23.0->openai) (2024.2.2)\n",
            "Collecting httpcore==1.* (from httpx<1,>=0.23.0->openai)\n",
            "  Downloading httpcore-1.0.4-py3-none-any.whl (77 kB)\n",
            "\u001b[2K     \u001b[90m━━━━━━━━━━━━━━━━━━━━━━━━━━━━━━━━━━━━━━━━\u001b[0m \u001b[32m77.8/77.8 kB\u001b[0m \u001b[31m6.9 MB/s\u001b[0m eta \u001b[36m0:00:00\u001b[0m\n",
            "\u001b[?25hCollecting h11<0.15,>=0.13 (from httpcore==1.*->httpx<1,>=0.23.0->openai)\n",
            "  Downloading h11-0.14.0-py3-none-any.whl (58 kB)\n",
            "\u001b[2K     \u001b[90m━━━━━━━━━━━━━━━━━━━━━━━━━━━━━━━━━━━━━━━━\u001b[0m \u001b[32m58.3/58.3 kB\u001b[0m \u001b[31m6.1 MB/s\u001b[0m eta \u001b[36m0:00:00\u001b[0m\n",
            "\u001b[?25hRequirement already satisfied: annotated-types>=0.4.0 in /usr/local/lib/python3.10/dist-packages (from pydantic<3,>=1.9.0->openai) (0.6.0)\n",
            "Requirement already satisfied: pydantic-core==2.16.2 in /usr/local/lib/python3.10/dist-packages (from pydantic<3,>=1.9.0->openai) (2.16.2)\n",
            "Installing collected packages: h11, httpcore, httpx, openai\n",
            "Successfully installed h11-0.14.0 httpcore-1.0.4 httpx-0.27.0 openai-1.12.0\n"
          ]
        }
      ]
    },
    {
      "cell_type": "code",
      "source": [
        "pip install openai --upgrade"
      ],
      "metadata": {
        "colab": {
          "base_uri": "https://localhost:8080/"
        },
        "id": "LsiUjYFM4Dhl",
        "outputId": "ec2424f9-0bf6-4703-d162-3cd69a13c9a9"
      },
      "execution_count": null,
      "outputs": [
        {
          "output_type": "stream",
          "name": "stdout",
          "text": [
            "Requirement already satisfied: openai in /usr/local/lib/python3.10/dist-packages (1.12.0)\n",
            "Requirement already satisfied: anyio<5,>=3.5.0 in /usr/local/lib/python3.10/dist-packages (from openai) (3.7.1)\n",
            "Requirement already satisfied: distro<2,>=1.7.0 in /usr/lib/python3/dist-packages (from openai) (1.7.0)\n",
            "Requirement already satisfied: httpx<1,>=0.23.0 in /usr/local/lib/python3.10/dist-packages (from openai) (0.27.0)\n",
            "Requirement already satisfied: pydantic<3,>=1.9.0 in /usr/local/lib/python3.10/dist-packages (from openai) (2.6.1)\n",
            "Requirement already satisfied: sniffio in /usr/local/lib/python3.10/dist-packages (from openai) (1.3.0)\n",
            "Requirement already satisfied: tqdm>4 in /usr/local/lib/python3.10/dist-packages (from openai) (4.66.2)\n",
            "Requirement already satisfied: typing-extensions<5,>=4.7 in /usr/local/lib/python3.10/dist-packages (from openai) (4.9.0)\n",
            "Requirement already satisfied: idna>=2.8 in /usr/local/lib/python3.10/dist-packages (from anyio<5,>=3.5.0->openai) (3.6)\n",
            "Requirement already satisfied: exceptiongroup in /usr/local/lib/python3.10/dist-packages (from anyio<5,>=3.5.0->openai) (1.2.0)\n",
            "Requirement already satisfied: certifi in /usr/local/lib/python3.10/dist-packages (from httpx<1,>=0.23.0->openai) (2024.2.2)\n",
            "Requirement already satisfied: httpcore==1.* in /usr/local/lib/python3.10/dist-packages (from httpx<1,>=0.23.0->openai) (1.0.4)\n",
            "Requirement already satisfied: h11<0.15,>=0.13 in /usr/local/lib/python3.10/dist-packages (from httpcore==1.*->httpx<1,>=0.23.0->openai) (0.14.0)\n",
            "Requirement already satisfied: annotated-types>=0.4.0 in /usr/local/lib/python3.10/dist-packages (from pydantic<3,>=1.9.0->openai) (0.6.0)\n",
            "Requirement already satisfied: pydantic-core==2.16.2 in /usr/local/lib/python3.10/dist-packages (from pydantic<3,>=1.9.0->openai) (2.16.2)\n"
          ]
        }
      ]
    },
    {
      "cell_type": "code",
      "source": [],
      "metadata": {
        "id": "s5oUm6_SJsyq"
      },
      "execution_count": null,
      "outputs": []
    }
  ]
}